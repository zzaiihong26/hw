{
 "cells": [
  {
   "cell_type": "code",
   "execution_count": 1,
   "id": "ce8a4b5f-1b73-4ec9-881f-e20bab12e9cc",
   "metadata": {},
   "outputs": [],
   "source": [
    "hairstyles = [\"bouffant\", \"pixie\", \"dreadlocks\", \"crew\", \"bowl\", \"bob\", \"mohawk\", \"flattop\"]"
   ]
  },
  {
   "cell_type": "code",
   "execution_count": 2,
   "id": "cc173aad-85e4-425d-92a5-f44918b164cf",
   "metadata": {},
   "outputs": [],
   "source": [
    "prices = [30, 25, 40, 20, 20, 35, 50, 35]"
   ]
  },
  {
   "cell_type": "code",
   "execution_count": 3,
   "id": "851bb391-b897-41db-957e-92d721f04872",
   "metadata": {},
   "outputs": [],
   "source": [
    "last_week = [2, 3, 5, 8, 4, 4, 6, 2]"
   ]
  },
  {
   "cell_type": "code",
   "execution_count": 4,
   "id": "e16e3660-ccc0-4043-91aa-4beab70480dd",
   "metadata": {},
   "outputs": [],
   "source": [
    "total_price = 0"
   ]
  },
  {
   "cell_type": "code",
   "execution_count": 6,
   "id": "0eb50ffe-346e-424f-a87e-ffafedf0e67f",
   "metadata": {},
   "outputs": [],
   "source": [
    "for price in prices:\n",
    "    total_price += price\n",
    "average_price = total_price / len(prices)"
   ]
  },
  {
   "cell_type": "code",
   "execution_count": 7,
   "id": "a664e746-da9e-40b3-b4fa-2c38b17f389e",
   "metadata": {},
   "outputs": [
    {
     "name": "stdout",
     "output_type": "stream",
     "text": [
      "Average Haircut Price : 63.75\n"
     ]
    }
   ],
   "source": [
    "print(\"Average Haircut Price : \" + str(average_price))"
   ]
  },
  {
   "cell_type": "code",
   "execution_count": 10,
   "id": "1c2cc762-0b02-4d52-9ef2-500110c52ecf",
   "metadata": {},
   "outputs": [],
   "source": [
    "new_prices = [price -5 for price in prices]"
   ]
  },
  {
   "cell_type": "code",
   "execution_count": 11,
   "id": "a19c2279-479b-4905-91c6-0b08cf04b2e3",
   "metadata": {},
   "outputs": [
    {
     "name": "stdout",
     "output_type": "stream",
     "text": [
      "[25, 20, 35, 15, 15, 30, 45, 30]\n"
     ]
    }
   ],
   "source": [
    "print(new_prices)"
   ]
  },
  {
   "cell_type": "code",
   "execution_count": 18,
   "id": "1232ae2c-85ed-4901-a93c-11c57bb8a08b",
   "metadata": {},
   "outputs": [],
   "source": [
    "total_revenue = 0"
   ]
  },
  {
   "cell_type": "code",
   "execution_count": 22,
   "id": "c1575f85-1cac-4987-a2c0-55b83ed21c1b",
   "metadata": {},
   "outputs": [],
   "source": [
    "for i in range(len(hairstyles)) :\n",
    "    total_revenue += prices[i] * last_week[i]\n"
   ]
  },
  {
   "cell_type": "code",
   "execution_count": 23,
   "id": "c16cbcad-ce84-46ae-9e3b-f1ea3296c51e",
   "metadata": {},
   "outputs": [],
   "source": [
    "total_revenue /= 7"
   ]
  },
  {
   "cell_type": "code",
   "execution_count": 24,
   "id": "a1d390a2-28e5-45ff-9bc0-d9db69c4c7c3",
   "metadata": {},
   "outputs": [
    {
     "name": "stdout",
     "output_type": "stream",
     "text": [
      "Average daily revenue is : 155.75510204081633\n"
     ]
    }
   ],
   "source": [
    "print(\"Average daily revenue is : \" + str(total_revenue))"
   ]
  },
  {
   "cell_type": "code",
   "execution_count": 25,
   "id": "b6211887-b5d3-42fc-8582-3d6c1071d820",
   "metadata": {},
   "outputs": [
    {
     "name": "stdout",
     "output_type": "stream",
     "text": [
      "['bouffant', 'pixie', 'crew', 'bowl']\n"
     ]
    }
   ],
   "source": [
    "cuts_under_30 = []\n",
    "for i in range(len(hairstyles)) :\n",
    "    if(new_prices[i] < 30) :\n",
    "        cuts_under_30.append(hairstyles[i])\n",
    "print(cuts_under_30)"
   ]
  }
 ],
 "metadata": {
  "kernelspec": {
   "display_name": "Python 3 (ipykernel)",
   "language": "python",
   "name": "python3"
  },
  "language_info": {
   "codemirror_mode": {
    "name": "ipython",
    "version": 3
   },
   "file_extension": ".py",
   "mimetype": "text/x-python",
   "name": "python",
   "nbconvert_exporter": "python",
   "pygments_lexer": "ipython3",
   "version": "3.9.7"
  }
 },
 "nbformat": 4,
 "nbformat_minor": 5
}
